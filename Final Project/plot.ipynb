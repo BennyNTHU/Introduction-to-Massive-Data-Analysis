{
 "cells": [
  {
   "cell_type": "markdown",
   "metadata": {},
   "source": [
    "# MDA Final Project - Group33\n",
    "這份code是為了在google drive上做圖所畫的。我的電腦用matplotlib畫報告中的圖三到圖五時都會dead kernel。"
   ]
  },
  {
   "cell_type": "code",
   "execution_count": 1,
   "metadata": {
    "colab": {
     "base_uri": "https://localhost:8080/"
    },
    "executionInfo": {
     "elapsed": 36104,
     "status": "ok",
     "timestamp": 1609455158782,
     "user": {
      "displayName": "李丞恩",
      "photoUrl": "https://lh3.googleusercontent.com/a-/AOh14GigTboi0Fn7avATFKrr9-xEjvPFerMAFn9lm0q4=s64",
      "userId": "08110211111776616045"
     },
     "user_tz": -480
    },
    "id": "QwqpVujQ_5vM",
    "outputId": "d79eddeb-79d3-450a-fead-afd14358fff9"
   },
   "outputs": [
    {
     "name": "stdout",
     "output_type": "stream",
     "text": [
      "Mounted at /content/gdrive\n"
     ]
    }
   ],
   "source": [
    "from google.colab import drive\n",
    "import matplotlib.pyplot as plt\n",
    "drive.mount('/content/gdrive')"
   ]
  },
  {
   "cell_type": "code",
   "execution_count": 2,
   "metadata": {
    "executionInfo": {
     "elapsed": 824,
     "status": "ok",
     "timestamp": 1609455178501,
     "user": {
      "displayName": "李丞恩",
      "photoUrl": "https://lh3.googleusercontent.com/a-/AOh14GigTboi0Fn7avATFKrr9-xEjvPFerMAFn9lm0q4=s64",
      "userId": "08110211111776616045"
     },
     "user_tz": -480
    },
    "id": "rhKK-HR4ANkD"
   },
   "outputs": [],
   "source": [
    "import pandas as pd"
   ]
  },
  {
   "cell_type": "markdown",
   "metadata": {},
   "source": [
    "讀取PPR_use_networkx.ipynb的輸出結果output.txt。"
   ]
  },
  {
   "cell_type": "code",
   "execution_count": 4,
   "metadata": {
    "colab": {
     "base_uri": "https://localhost:8080/",
     "height": 204
    },
    "executionInfo": {
     "elapsed": 827,
     "status": "ok",
     "timestamp": 1609455313176,
     "user": {
      "displayName": "李丞恩",
      "photoUrl": "https://lh3.googleusercontent.com/a-/AOh14GigTboi0Fn7avATFKrr9-xEjvPFerMAFn9lm0q4=s64",
      "userId": "08110211111776616045"
     },
     "user_tz": -480
    },
    "id": "hA9dtFohANNc",
    "outputId": "7ae1b11b-5809-4999-ec4e-127cfe957732"
   },
   "outputs": [
    {
     "data": {
      "text/html": [
       "<div>\n",
       "<style scoped>\n",
       "    .dataframe tbody tr th:only-of-type {\n",
       "        vertical-align: middle;\n",
       "    }\n",
       "\n",
       "    .dataframe tbody tr th {\n",
       "        vertical-align: top;\n",
       "    }\n",
       "\n",
       "    .dataframe thead th {\n",
       "        text-align: right;\n",
       "    }\n",
       "</style>\n",
       "<table border=\"1\" class=\"dataframe\">\n",
       "  <thead>\n",
       "    <tr style=\"text-align: right;\">\n",
       "      <th></th>\n",
       "      <th>node</th>\n",
       "      <th>r</th>\n",
       "    </tr>\n",
       "  </thead>\n",
       "  <tbody>\n",
       "    <tr>\n",
       "      <th>0</th>\n",
       "      <td>3466</td>\n",
       "      <td>0.000065</td>\n",
       "    </tr>\n",
       "    <tr>\n",
       "      <th>1</th>\n",
       "      <td>937</td>\n",
       "      <td>0.000002</td>\n",
       "    </tr>\n",
       "    <tr>\n",
       "      <th>2</th>\n",
       "      <td>5233</td>\n",
       "      <td>0.000059</td>\n",
       "    </tr>\n",
       "    <tr>\n",
       "      <th>3</th>\n",
       "      <td>8579</td>\n",
       "      <td>0.000002</td>\n",
       "    </tr>\n",
       "    <tr>\n",
       "      <th>4</th>\n",
       "      <td>10310</td>\n",
       "      <td>0.002767</td>\n",
       "    </tr>\n",
       "  </tbody>\n",
       "</table>\n",
       "</div>"
      ],
      "text/plain": [
       "    node         r\n",
       "0   3466  0.000065\n",
       "1    937  0.000002\n",
       "2   5233  0.000059\n",
       "3   8579  0.000002\n",
       "4  10310  0.002767"
      ]
     },
     "execution_count": 4,
     "metadata": {
      "tags": []
     },
     "output_type": "execute_result"
    }
   ],
   "source": [
    "df = pd.read_csv('/content/gdrive/My Drive/Colab Notebooks/output.txt', sep='\\t', header=None) # open the result\n",
    "df.columns = ['node', 'r']                 # assign the headers of each column\n",
    "df['node'] = df['node'].astype(int)        # change data type\n",
    "df['r'] = df['r'].astype(float)\n",
    "df=df.convert_dtypes()\n",
    "df.head()"
   ]
  },
  {
   "cell_type": "code",
   "execution_count": 7,
   "metadata": {
    "executionInfo": {
     "elapsed": 814,
     "status": "ok",
     "timestamp": 1609455394309,
     "user": {
      "displayName": "李丞恩",
      "photoUrl": "https://lh3.googleusercontent.com/a-/AOh14GigTboi0Fn7avATFKrr9-xEjvPFerMAFn9lm0q4=s64",
      "userId": "08110211111776616045"
     },
     "user_tz": -480
    },
    "id": "FLtKDVWIAzmt"
   },
   "outputs": [],
   "source": [
    "r = df['r'].tolist()\n",
    "r = sorted(r)[::-1] # sort the valu of r decreasingly"
   ]
  },
  {
   "cell_type": "markdown",
   "metadata": {},
   "source": [
    "繪製整個network的PPR score。"
   ]
  },
  {
   "cell_type": "code",
   "execution_count": 13,
   "metadata": {
    "colab": {
     "base_uri": "https://localhost:8080/",
     "height": 265
    },
    "executionInfo": {
     "elapsed": 1840,
     "status": "ok",
     "timestamp": 1609455538267,
     "user": {
      "displayName": "李丞恩",
      "photoUrl": "https://lh3.googleusercontent.com/a-/AOh14GigTboi0Fn7avATFKrr9-xEjvPFerMAFn9lm0q4=s64",
      "userId": "08110211111776616045"
     },
     "user_tz": -480
    },
    "id": "u79qhBZhBBRl",
    "outputId": "224b2c6d-2a42-41d9-886d-9bc67529a7df"
   },
   "outputs": [
    {
     "data": {
      "image/png": "[encoded data removed]",
      "text/plain": [
       "<Figure size 432x288 with 1 Axes>"
      ]
     },
     "metadata": {
      "needs_background": "light",
      "tags": []
     },
     "output_type": "display_data"
    }
   ],
   "source": [
    "plt.plot(r)\n",
    "plt.savefig(\"/content/gdrive/My Drive/Colab Notebooks/PPR_overview.png\", dpi=500)\n",
    "plt.show()"
   ]
  },
  {
   "cell_type": "markdown",
   "metadata": {},
   "source": [
    "繪製PPR score排名前200名的折線圖。"
   ]
  },
  {
   "cell_type": "code",
   "execution_count": 14,
   "metadata": {
    "colab": {
     "base_uri": "https://localhost:8080/",
     "height": 265
    },
    "executionInfo": {
     "elapsed": 1835,
     "status": "ok",
     "timestamp": 1609455545977,
     "user": {
      "displayName": "李丞恩",
      "photoUrl": "https://lh3.googleusercontent.com/a-/AOh14GigTboi0Fn7avATFKrr9-xEjvPFerMAFn9lm0q4=s64",
      "userId": "08110211111776616045"
     },
     "user_tz": -480
    },
    "id": "Bi75hFsUBiPk",
    "outputId": "e8aafa23-996e-460f-dcf6-593b1d124bc7"
   },
   "outputs": [
    {
     "data": {
      "image/png": "[encoded data removed]",
      "text/plain": [
       "<Figure size 432x288 with 1 Axes>"
      ]
     },
     "metadata": {
      "needs_background": "light",
      "tags": []
     },
     "output_type": "display_data"
    }
   ],
   "source": [
    "plt.plot(r[2:200])\n",
    "plt.savefig(\"/content/gdrive/My Drive/Colab Notebooks/PPR_2_200.png\", dpi=500)\n",
    "plt.show()"
   ]
  },
  {
   "cell_type": "markdown",
   "metadata": {},
   "source": [
    "繪製PPR score排名前30名的折線圖。"
   ]
  },
  {
   "cell_type": "code",
   "execution_count": 15,
   "metadata": {
    "colab": {
     "base_uri": "https://localhost:8080/",
     "height": 265
    },
    "executionInfo": {
     "elapsed": 1828,
     "status": "ok",
     "timestamp": 1609455555570,
     "user": {
      "displayName": "李丞恩",
      "photoUrl": "https://lh3.googleusercontent.com/a-/AOh14GigTboi0Fn7avATFKrr9-xEjvPFerMAFn9lm0q4=s64",
      "userId": "08110211111776616045"
     },
     "user_tz": -480
    },
    "id": "YRNjsuLqBjoD",
    "outputId": "dd225bb4-0993-449f-dc80-3281748b52da"
   },
   "outputs": [
    {
     "data": {
      "image/png": "[encoded data removed]",
      "text/plain": [
       "<Figure size 432x288 with 1 Axes>"
      ]
     },
     "metadata": {
      "needs_background": "light",
      "tags": []
     },
     "output_type": "display_data"
    }
   ],
   "source": [
    "plt.plot(r[2:30])\n",
    "plt.savefig(\"/content/gdrive/My Drive/Colab Notebooks/PPR_2_30.png\", dpi=500)\n",
    "plt.show()"
   ]
  }
 ],
 "metadata": {
  "colab": {
   "authorship_tag": "ABX9TyNWGCHxMmMfnYwfnfjB7tqW",
   "name": "plot.ipynb",
   "provenance": []
  },
  "kernelspec": {
   "display_name": "Python 3",
   "language": "python",
   "name": "python3"
  },
  "language_info": {
   "codemirror_mode": {
    "name": "ipython",
    "version": 3
   },
   "file_extension": ".py",
   "mimetype": "text/x-python",
   "name": "python",
   "nbconvert_exporter": "python",
   "pygments_lexer": "ipython3",
   "version": "3.6.12"
  }
 },
 "nbformat": 4,
 "nbformat_minor": 1
}
