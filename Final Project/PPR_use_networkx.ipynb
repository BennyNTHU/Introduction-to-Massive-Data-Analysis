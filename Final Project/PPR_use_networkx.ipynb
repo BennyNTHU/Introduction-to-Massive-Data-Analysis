{
 "cells": [
  {
   "cell_type": "markdown",
   "metadata": {},
   "source": [
    "# MDA Final Project - Group33"
   ]
  },
  {
   "cell_type": "markdown",
   "metadata": {},
   "source": [
    "由於我的電腦執行pyspark計算PPR score時無法迭代夠多的次數，因此我使用networkX重做一次，才能得出可令人接受的結果。首先，先引入需要的package。"
   ]
  },
  {
   "cell_type": "code",
   "execution_count": null,
   "metadata": {},
   "outputs": [],
   "source": [
    "import pandas as pd\n",
    "import numpy as np\n",
    "import networkx as nx\n",
    "import matplotlib.pyplot as plt\n",
    "import random"
   ]
  },
  {
   "cell_type": "markdown",
   "metadata": {},
   "source": [
    "## 一. 讀取dataset"
   ]
  },
  {
   "cell_type": "markdown",
   "metadata": {},
   "source": [
    "利用pandas讀取資料集。"
   ]
  },
  {
   "cell_type": "code",
   "execution_count": 5,
   "metadata": {},
   "outputs": [
    {
     "data": {
      "text/html": [
       "<div>\n",
       "<style scoped>\n",
       "    .dataframe tbody tr th:only-of-type {\n",
       "        vertical-align: middle;\n",
       "    }\n",
       "\n",
       "    .dataframe tbody tr th {\n",
       "        vertical-align: top;\n",
       "    }\n",
       "\n",
       "    .dataframe thead th {\n",
       "        text-align: right;\n",
       "    }\n",
       "</style>\n",
       "<table border=\"1\" class=\"dataframe\">\n",
       "  <thead>\n",
       "    <tr style=\"text-align: right;\">\n",
       "      <th></th>\n",
       "      <th>node_1</th>\n",
       "      <th>node_2</th>\n",
       "    </tr>\n",
       "  </thead>\n",
       "  <tbody>\n",
       "    <tr>\n",
       "      <th>0</th>\n",
       "      <td>3466</td>\n",
       "      <td>937</td>\n",
       "    </tr>\n",
       "    <tr>\n",
       "      <th>1</th>\n",
       "      <td>3466</td>\n",
       "      <td>5233</td>\n",
       "    </tr>\n",
       "    <tr>\n",
       "      <th>2</th>\n",
       "      <td>3466</td>\n",
       "      <td>8579</td>\n",
       "    </tr>\n",
       "    <tr>\n",
       "      <th>3</th>\n",
       "      <td>3466</td>\n",
       "      <td>10310</td>\n",
       "    </tr>\n",
       "    <tr>\n",
       "      <th>4</th>\n",
       "      <td>3466</td>\n",
       "      <td>15931</td>\n",
       "    </tr>\n",
       "  </tbody>\n",
       "</table>\n",
       "</div>"
      ],
      "text/plain": [
       "   node_1  node_2\n",
       "0    3466     937\n",
       "1    3466    5233\n",
       "2    3466    8579\n",
       "3    3466   10310\n",
       "4    3466   15931"
      ]
     },
     "execution_count": 5,
     "metadata": {},
     "output_type": "execute_result"
    }
   ],
   "source": [
    "df = pd.read_csv('CA-GrQc.txt', sep='\\t', header=None) # open the dataset\n",
    "df.columns = ['node_1', 'node_2']                 # assign the headers of each column\n",
    "df['node_1'] = df['node_1'].astype(int)           # change data type\n",
    "df['node_2'] = df['node_2'].astype(int)\n",
    "\n",
    "df=df.convert_dtypes()\n",
    "df.head()"
   ]
  },
  {
   "cell_type": "markdown",
   "metadata": {},
   "source": [
    "由於我們不希望有self edge，因此需要排除掉它們。"
   ]
  },
  {
   "cell_type": "code",
   "execution_count": 7,
   "metadata": {},
   "outputs": [],
   "source": [
    "# Build a list of edge. Each edge is stored in a tuple\n",
    "edge_tuple_list=[]\n",
    "for i in range(0,len(df.node_1)): # Add all edges\n",
    "    edge_tuple_list.append((df.node_1[i],df.node_2[i]))\n",
    "\n",
    "for (i, j) in edge_tuple_list:\n",
    "    for (s,t) in edge_tuple_list:\n",
    "        if (s,t) == (j, i): # delete (j,i) if (i,j) is in the dataset\n",
    "            edge_tuple_list.remove((s,t))"
   ]
  },
  {
   "cell_type": "markdown",
   "metadata": {},
   "source": [
    "NetworkX可以直接由邊的列表建立一個圖。"
   ]
  },
  {
   "cell_type": "code",
   "execution_count": 8,
   "metadata": {},
   "outputs": [],
   "source": [
    "G = nx.Graph() # construct the graph\n",
    "G.add_edges_from(edge_tuple_list)"
   ]
  },
  {
   "cell_type": "markdown",
   "metadata": {},
   "source": [
    "## 二. 定義所需的資料結構\n",
    "為了儲存每個頂點的$d_u, q_u, r_u$的值，我使用class來儲存每一個頂點，同時也在這個class中定義push中的第一步，也就是\n",
    "$$r_u+(1-\\beta)q_u\\to r_u$$\n",
    "$$\\frac{1}{2}\\beta q_u\\to q_u$$"
   ]
  },
  {
   "cell_type": "code",
   "execution_count": 28,
   "metadata": {},
   "outputs": [],
   "source": [
    "beta = 0.8"
   ]
  },
  {
   "cell_type": "code",
   "execution_count": 44,
   "metadata": {},
   "outputs": [],
   "source": [
    "class vertex():\n",
    "    def __init__(self, num, neighbors, du, qu, ru):\n",
    "        self.num = num\n",
    "        self.neighbors = neighbors\n",
    "        self.du = du\n",
    "        self.qu = qu\n",
    "        self.ru = ru\n",
    "    def push_step1(self):\n",
    "        self.ru = self.ru + (1-beta)*self.qu\n",
    "        self.qu = 0.5*beta*self.qu"
   ]
  },
  {
   "cell_type": "markdown",
   "metadata": {},
   "source": [
    "建立所有vertex。"
   ]
  },
  {
   "cell_type": "code",
   "execution_count": 45,
   "metadata": {},
   "outputs": [],
   "source": [
    "vertex_list = [n for n in G] # get the list of all vertices in the network\n",
    "vertex_class = []\n",
    "for i in vertex_list:\n",
    "    if i == 9572: # seed node\n",
    "        qu = 1\n",
    "    else:\n",
    "        qu = 0\n",
    "    v = vertex(i, [n for n in G.neighbors(i)], G.degree[i], qu, 0) # call the constructer\n",
    "    vertex_class.append(v)"
   ]
  },
  {
   "cell_type": "markdown",
   "metadata": {},
   "source": [
    "## 三. Approximate PPR演算法實作"
   ]
  },
  {
   "cell_type": "markdown",
   "metadata": {},
   "source": [
    "因為迴圈的判斷條件是$\\max_{u\\in V}\\frac{q_u}{d_u}\\geq\\epsilon$，因此先計算所有vertex的$q_u/d_u$。"
   ]
  },
  {
   "cell_type": "code",
   "execution_count": 46,
   "metadata": {},
   "outputs": [],
   "source": [
    "epsilon = 1e-7\n",
    "ratio_list = [v.qu/v.du for v in vertex_class]  # qu/du for all vertices"
   ]
  },
  {
   "cell_type": "markdown",
   "metadata": {},
   "source": [
    "接下來進到演算法的本體，由於這裡沒有使用map reduce，因此可以完全按照講義上的虛擬碼做。"
   ]
  },
  {
   "cell_type": "code",
   "execution_count": 47,
   "metadata": {},
   "outputs": [],
   "source": [
    "while max(ratio_list) > epsilon: # loop condition\n",
    "    # Find all the vertices that qu/du > epsilon\n",
    "    over = [] \n",
    "    for v in vertex_class: \n",
    "        if v.qu/v.du > epsilon: # qu/du > epsilon\n",
    "            over.append(v)\n",
    "            \n",
    "    push_vertex = random.choice(over) # randomly choose a vertex whose qu/du > epsilon\n",
    "    push_vertex.push_step1() # assign new value of ru and qu (lazy random walk)\n",
    "    \n",
    "    for w in vertex_class: \n",
    "        if w.num in push_vertex.neighbors: # its neighbor\n",
    "            w.qu += 0.5*beta*push_vertex.qu/push_vertex.du # update q_v for all neighbor\n",
    "                \n",
    "    ratio_list = [v.qu/v.du for v in vertex_class] # update the ratio list qu/du"
   ]
  },
  {
   "cell_type": "markdown",
   "metadata": {},
   "source": [
    "將所有頂點與對應的PPR score $r_u$儲存到output.txt之中。"
   ]
  },
  {
   "cell_type": "code",
   "execution_count": 49,
   "metadata": {},
   "outputs": [],
   "source": [
    "output = [[v.num, v.ru] for v in vertex_class]"
   ]
  },
  {
   "cell_type": "code",
   "execution_count": 50,
   "metadata": {},
   "outputs": [],
   "source": [
    "with open('output.txt', 'w') as f:\n",
    "    for item in output:\n",
    "        f.write(\"%s\\t%s\\n\" % (str(item[0]), str(item[1])))"
   ]
  }
 ],
 "metadata": {
  "kernelspec": {
   "display_name": "Python 3",
   "language": "python",
   "name": "python3"
  },
  "language_info": {
   "codemirror_mode": {
    "name": "ipython",
    "version": 3
   },
   "file_extension": ".py",
   "mimetype": "text/x-python",
   "name": "python",
   "nbconvert_exporter": "python",
   "pygments_lexer": "ipython3",
   "version": "3.6.12"
  }
 },
 "nbformat": 4,
 "nbformat_minor": 4
}
