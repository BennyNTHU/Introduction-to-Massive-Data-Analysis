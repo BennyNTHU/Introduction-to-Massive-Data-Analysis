{
 "cells": [
  {
   "cell_type": "markdown",
   "metadata": {},
   "source": [
    "# MDA Final Project - Group33\n",
    "本組的成員只有我一位，106061218李丞恩。"
   ]
  },
  {
   "cell_type": "markdown",
   "metadata": {},
   "source": [
    "呼叫本次會使用到的package與SparkConf"
   ]
  },
  {
   "cell_type": "code",
   "execution_count": 1,
   "metadata": {},
   "outputs": [],
   "source": [
    "from pyspark import SparkConf, SparkContext\n",
    "import matplotlib.pyplot as plt"
   ]
  },
  {
   "cell_type": "code",
   "execution_count": 2,
   "metadata": {},
   "outputs": [],
   "source": [
    "sc.stop()"
   ]
  },
  {
   "cell_type": "code",
   "execution_count": 3,
   "metadata": {},
   "outputs": [],
   "source": [
    "conf = SparkConf().setMaster(\"local\").setAppName(\"wordcount\") # call sparkconf\n",
    "conf = SparkConf().set(\"spark.default.parallelism\", 4)\n",
    "sc = SparkContext('local[8]', '', conf=conf) # call sparkcontext"
   ]
  },
  {
   "cell_type": "markdown",
   "metadata": {},
   "source": [
    "## 一. 讀取dataset"
   ]
  },
  {
   "cell_type": "markdown",
   "metadata": {},
   "source": [
    "CA-GrQc.txt的結構是兩個數字(vertex)間以tab隔開。我們將其讀取成RDD $G=[(i,j)]$，其中$i,j$為相連的兩個vertex。"
   ]
  },
  {
   "cell_type": "code",
   "execution_count": 4,
   "metadata": {},
   "outputs": [],
   "source": [
    "def read_map(line):\n",
    "    wordlist=line.split(\"\\n\")\n",
    "    maplist=[]\n",
    "    for item in wordlist:\n",
    "        s = item.split(\"\\t\")\n",
    "        if s[0] != s[1]: # 不讀入self edge\n",
    "            maplist.append((int(s[0]), int(s[1]))) # add to map\n",
    "            #maplist.append((int(s[1]), int(s[0]))) # add to map\n",
    "    return maplist"
   ]
  },
  {
   "cell_type": "code",
   "execution_count": 5,
   "metadata": {},
   "outputs": [],
   "source": [
    "G = sc.textFile(\"CA-GrQc.txt\").flatMap(read_map) # read txt file"
   ]
  },
  {
   "cell_type": "code",
   "execution_count": 6,
   "metadata": {},
   "outputs": [
    {
     "data": {
      "text/plain": [
       "[(3466, 937), (3466, 5233), (3466, 8579), (3466, 10310), (3466, 15931)]"
      ]
     },
     "execution_count": 6,
     "metadata": {},
     "output_type": "execute_result"
    }
   ],
   "source": [
    "G.take(5)"
   ]
  },
  {
   "cell_type": "markdown",
   "metadata": {},
   "source": [
    "## 二. 初始化Approximate PPR演算法所需的rdd"
   ]
  },
  {
   "cell_type": "markdown",
   "metadata": {},
   "source": [
    "目標是把$G$變成$$G=\\bigg[\\big(u,([u連到的點],d_u,r_u,q_u,\\frac{q_u}{d_u})\\big)\\bigg]$$\n",
    "flatten2list會把巢狀結構展開為1維的list。length_reducer會將每個vertex的所有neighbor加到一個list中。"
   ]
  },
  {
   "cell_type": "code",
   "execution_count": 7,
   "metadata": {},
   "outputs": [],
   "source": [
    "def flatten2list(object):\n",
    "    gather = []\n",
    "    for item in object:\n",
    "        if isinstance(item, (list, tuple, set)):\n",
    "            gather.extend(flatten2list(item))            \n",
    "        else:\n",
    "            gather.append(item)\n",
    "    return gather"
   ]
  },
  {
   "cell_type": "code",
   "execution_count": 8,
   "metadata": {},
   "outputs": [],
   "source": [
    "def length_reducer(x,y):\n",
    "    return flatten2list((x,y))"
   ]
  },
  {
   "cell_type": "markdown",
   "metadata": {},
   "source": [
    "而initilize_PPR則會初始化每個vertex的$d_u, r_u, q_u$以及$q_u/d_u$的值。"
   ]
  },
  {
   "cell_type": "code",
   "execution_count": 9,
   "metadata": {},
   "outputs": [],
   "source": [
    "def initilize_PPR(x):\n",
    "    if x[0] == 9572: # seed node\n",
    "        qu = 1 # residual PPR of a vertex\n",
    "    else:\n",
    "        qu = 0\n",
    "    if isinstance(x[1], int):\n",
    "        du = 1 # degree of a vertex\n",
    "    else:\n",
    "        du = len(x[1]) \n",
    "    ru = 0 # PPR score of a vertex\n",
    "    return (x[0], (x[1], du, ru, qu, qu/du))"
   ]
  },
  {
   "cell_type": "markdown",
   "metadata": {},
   "source": [
    "原本$G$的結構是剛讀入的dataset $[(i,j)]$，其中$i,j$為相連的兩個vertex。經過length_reducer以及initilize_PPR後，就能成功地將$G$變為$$G=\\bigg[\\big(u,([u連到的點],d_u,r_u,q_u,\\frac{q_u}{d_u})\\big)\\bigg]$$的形式了。"
   ]
  },
  {
   "cell_type": "code",
   "execution_count": 10,
   "metadata": {},
   "outputs": [],
   "source": [
    "G = G.reduceByKey(length_reducer)"
   ]
  },
  {
   "cell_type": "code",
   "execution_count": 11,
   "metadata": {},
   "outputs": [],
   "source": [
    "G = G.map(initilize_PPR)"
   ]
  },
  {
   "cell_type": "markdown",
   "metadata": {},
   "source": [
    "而因為執行了一次reduce，照理來說此時$G$的元素個數即為這個dataset所含的vertex數，但因為有一個vertex只有一條self edge，因此會被排除掉。"
   ]
  },
  {
   "cell_type": "code",
   "execution_count": 12,
   "metadata": {},
   "outputs": [
    {
     "data": {
      "text/plain": [
       "5241"
      ]
     },
     "execution_count": 12,
     "metadata": {},
     "output_type": "execute_result"
    }
   ],
   "source": [
    "G.count()"
   ]
  },
  {
   "cell_type": "markdown",
   "metadata": {},
   "source": [
    "## 三. Approximate PPR演算法實作"
   ]
  },
  {
   "cell_type": "markdown",
   "metadata": {},
   "source": [
    "### 1. 選擇適當起點\n",
    "Choose any vertex $u$ such that $$\\max_{u\\in V}\\frac{q_u}{d_u}\\geq\\epsilon$$故要先找出具有該最大值的頂點。記得此時的\n",
    "$$G=\\bigg[\\big(u,([u連到的點],d_u,r_u,q_u,\\frac{q_u}{d_u})\\big)\\bigg]$$\n",
    "因此find_max()函數中需先經過一次map，使$q_u/d_u$成為value，才能使用RDD的max()方法尋找出具有最大值的頂點。完成後，將其map回$G$原本的形式後回傳。"
   ]
  },
  {
   "cell_type": "code",
   "execution_count": 13,
   "metadata": {},
   "outputs": [],
   "source": [
    "beta = 0.8"
   ]
  },
  {
   "cell_type": "code",
   "execution_count": 14,
   "metadata": {},
   "outputs": [],
   "source": [
    "def find_max():\n",
    "    max_vertex = G.map(lambda x: ((x[0],x[1][0],x[1][1],x[1][2],x[1][3]),x[1][4])) \\\n",
    "                  .max(key = lambda x:x[1]) # fincd max(qu/du)\n",
    "    max_vertex = (max_vertex[0][0],(max_vertex[0][1],max_vertex[0][2],max_vertex[0][3], \\\n",
    "                                    max_vertex[0][4],max_vertex[1]))  \n",
    "    return max_vertex"
   ]
  },
  {
   "cell_type": "markdown",
   "metadata": {},
   "source": [
    "### 2. Push"
   ]
  },
  {
   "cell_type": "markdown",
   "metadata": {},
   "source": [
    "現在的$G$是$$\\bigg[\\big(u,([u連到的點],d_u,r_u,q_u,\\frac{q_u}{d_u})\\big)\\bigg]$$\n",
    "在Push的第一階段，先用Push_map1()讓它變成$$\\bigg[\\big(u,([u連到的點],d_u,r_u+(1-\\beta)q_u,0.5\\beta q_u,\\frac{q_u}{d_u})\\big)\\bigg]$$"
   ]
  },
  {
   "cell_type": "code",
   "execution_count": 15,
   "metadata": {},
   "outputs": [],
   "source": [
    "def Push_map1(x):\n",
    "    if x[0] == max_vertex[0]:\n",
    "        return (x[0], (x[1][0],x[1][1],x[1][2]+(1-beta)*x[1][3],0.5*beta*x[1][3],x[1][4]))\n",
    "    else:\n",
    "        return x"
   ]
  },
  {
   "cell_type": "markdown",
   "metadata": {},
   "source": [
    "迴圈因為timeout的因素只能執行四次，詳情請見報告。迴圈內的code的解釋如下：\n",
    "1. 首先先找出使得$$\\frac{q_u}{d_u}=\\max_{u\\in V}\\frac{q_u}{d_u}\\geq\\epsilon$$的頂點$u$，因此使用find_max()執行。\n",
    "\n",
    "2. 對所有$u$的neighbor$v$，要以$$q_v+\\frac{1}{2}\\beta\\frac{q_u}{d_u}\\to q_v$$更新$q_v$的值。因此使用G.filter()，將$G$中所有元素，其編號位在$u$的neighbor list(也就是$[u連到的點]$)中的點存到另一個rdd $V$裡面，接著對$V$利用一次map完成此更新。\n",
    "\n",
    "3. 由於所有neighbor的$q$值已經更新，要將它們放回$G$裡的話，需要先刪除$G$中原本相同的頂點，再利用G.union(V)的方法將$G$與$V$併在一起"
   ]
  },
  {
   "cell_type": "code",
   "execution_count": 16,
   "metadata": {},
   "outputs": [
    {
     "name": "stdout",
     "output_type": "stream",
     "text": [
      "第4次迭代已完成\r"
     ]
    }
   ],
   "source": [
    "for i in range(1,5): # under construction!\n",
    "    max_vertex = find_max()\n",
    "    G = G.map(Push_map1) # 更新ru與qu\n",
    "    \n",
    "    #找出具有最大max_val之vertex所連到的邊\n",
    "    V = G.filter(lambda x: x[0] in max_vertex[1][0] if not isinstance(max_vertex[1][0], int) else x[0] == max_vertex[1][0])\n",
    "    V = V.map(lambda x: (x[0], (x[1][0],x[1][1],x[1][2], \\\n",
    "                            x[1][3]+0.5*beta*max_vertex[1][3]/max_vertex[1][1], \\\n",
    "                            x[1][4]))) # qv<-qv+0.5*beta*qu/du\n",
    "    # 濾掉已經在V中的邊\n",
    "    G = G.filter(lambda x: x[0] not in max_vertex[1][0] if not isinstance(max_vertex[1][0], int) else x[0] != max_vertex[1][0])\n",
    "    G = G.union(V) #更新所有邊的參數\n",
    "    print(\"第%d次迭代已完成\" %i, end='\\r')"
   ]
  },
  {
   "cell_type": "markdown",
   "metadata": {},
   "source": [
    "取每個vertex的編號以及$r_u$值，將結果存到文字檔中，只是pyspark會分割所有輸出檔並放在一個資料夾(Final_project_output)中，要手動在其中的part-00000~part-00003加上.txt才能讀取。"
   ]
  },
  {
   "cell_type": "code",
   "execution_count": 17,
   "metadata": {},
   "outputs": [],
   "source": [
    "output = G.map(lambda x: (x[0], x[1][2]))\n",
    "output.saveAsTextFile(\"Final_project_output\")"
   ]
  },
  {
   "cell_type": "markdown",
   "metadata": {},
   "source": [
    "以下的code是在報告中提及，逐行運行的code，雖然與用迴圈寫會出一樣的問題，不過可藉由觀察其輸出驗證演算法的正確性。"
   ]
  },
  {
   "cell_type": "code",
   "execution_count": 18,
   "metadata": {},
   "outputs": [],
   "source": [
    "#max_vertex = find_max()"
   ]
  },
  {
   "cell_type": "code",
   "execution_count": 19,
   "metadata": {},
   "outputs": [],
   "source": [
    "#max_vertex"
   ]
  },
  {
   "cell_type": "code",
   "execution_count": 20,
   "metadata": {},
   "outputs": [],
   "source": [
    "#G = G.map(Push_map1) # 更新ru與qu"
   ]
  },
  {
   "cell_type": "code",
   "execution_count": 21,
   "metadata": {},
   "outputs": [],
   "source": [
    "#V = G.filter(lambda x: x[0] in max_vertex[1][0] if not isinstance(max_vertex[1][0], int) else x[0] == max_vertex[1][0])\n",
    "#V = V.map(lambda x: (x[0], (x[1][0],x[1][1],x[1][2], \\\n",
    "#                            x[1][3]+0.5*beta*max_vertex[1][3]/max_vertex[1][1], \\\n",
    "#                            x[1][4]))) # qv<-qv+0.5*beta*qu/du"
   ]
  },
  {
   "cell_type": "code",
   "execution_count": 22,
   "metadata": {},
   "outputs": [],
   "source": [
    "#G = G.filter(lambda x: x[0] not in max_vertex[1][0] if not isinstance(max_vertex[1][0], int) else x[0] != max_vertex[1][0])"
   ]
  },
  {
   "cell_type": "code",
   "execution_count": 23,
   "metadata": {},
   "outputs": [],
   "source": [
    "#G.count()"
   ]
  },
  {
   "cell_type": "code",
   "execution_count": 24,
   "metadata": {},
   "outputs": [],
   "source": [
    "#G = G.union(V)"
   ]
  },
  {
   "cell_type": "code",
   "execution_count": 25,
   "metadata": {},
   "outputs": [],
   "source": [
    "#G.count()"
   ]
  },
  {
   "cell_type": "markdown",
   "metadata": {},
   "source": [
    "## 四. 資料分析"
   ]
  },
  {
   "cell_type": "code",
   "execution_count": 26,
   "metadata": {},
   "outputs": [
    {
     "data": {
      "image/png": "[encoded data removed]",
      "text/plain": [
       "<Figure size 432x288 with 1 Axes>"
      ]
     },
     "metadata": {
      "needs_background": "light"
     },
     "output_type": "display_data"
    }
   ],
   "source": [
    "output_list = output.collect()\n",
    "data={}\n",
    "for i in output_list:\n",
    "    data[i[0]] = i[1]\n",
    "    \n",
    "plt.plot(sorted(data.values())[::-1])\n",
    "plt.savefig(\"PPR.png\", dpi=500)\n",
    "plt.show()"
   ]
  }
 ],
 "metadata": {
  "kernelspec": {
   "display_name": "Python 3",
   "language": "python",
   "name": "python3"
  },
  "language_info": {
   "codemirror_mode": {
    "name": "ipython",
    "version": 3
   },
   "file_extension": ".py",
   "mimetype": "text/x-python",
   "name": "python",
   "nbconvert_exporter": "python",
   "pygments_lexer": "ipython3",
   "version": "3.6.12"
  }
 },
 "nbformat": 4,
 "nbformat_minor": 4
}
